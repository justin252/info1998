{
 "cells": [
  {
   "cell_type": "markdown",
   "metadata": {},
   "source": [
    "# American Football and Machine Learning \n",
    "#### netids: cfr59, jh"
   ]
  },
  {
   "cell_type": "markdown",
   "metadata": {},
   "source": [
    "**Overview:**\n",
    "\n",
    "**Dataset:** https://bit.ly/2pVfEDI\n",
    "\n",
    "**Research Goal:** \n",
    "\n",
    "**Methodologies/Approach:**"
   ]
  },
  {
   "cell_type": "code",
   "execution_count": 1,
   "metadata": {},
   "outputs": [
    {
     "name": "stderr",
     "output_type": "stream",
     "text": [
      "Using TensorFlow backend.\n"
     ]
    }
   ],
   "source": [
    "# import the necessary libraries & modules\n",
    "import pandas as pd\n",
    "import numpy as np\n",
    "import matplotlib.pyplot as plt\n",
    "from sklearn.metrics import accuracy_score\n",
    "from sklearn.model_selection import train_test_split\n",
    "from sklearn.tree import DecisionTreeClassifier\n",
    "from sklearn.neighbors import KNeighborsClassifier\n",
    "from sklearn.preprocessing import LabelEncoder\n",
    "from sklearn.svm import SVC\n",
    "import seaborn as sns\n",
    "import datetime\n",
    "from keras.models import Sequential\n",
    "from keras.layers import Dense\n",
    "from keras.callbacks import EarlyStopping\n",
    "from sklearn.linear_model import Perceptron\n",
    "\n",
    "# configure settings\n",
    "pd.set_option('display.max_columns', 100)"
   ]
  },
  {
   "cell_type": "code",
   "execution_count": 2,
   "metadata": {},
   "outputs": [],
   "source": [
    "# import the data\n",
    "nfl_data = pd.read_csv('nfl_ml.csv', low_memory = False)"
   ]
  },
  {
   "cell_type": "markdown",
   "metadata": {},
   "source": [
    "## Data Manipulation"
   ]
  },
  {
   "cell_type": "code",
   "execution_count": 3,
   "metadata": {},
   "outputs": [],
   "source": [
    "# drop entirely irrelevant columns (based on our discretion)\n",
    "nfl_data.drop(['GameId', 'PlayId', 'JerseyNumber', 'Season', 'DisplayName', \\\n",
    "               'NflIdRusher', 'Stadium', 'Week', 'Location', 'NflId', \\\n",
    "               'PlayerCollegeName'], axis=1, inplace=True);"
   ]
  },
  {
   "cell_type": "markdown",
   "metadata": {},
   "source": [
    "#### Number Conversions"
   ]
  },
  {
   "cell_type": "code",
   "execution_count": 4,
   "metadata": {},
   "outputs": [],
   "source": [
    "# time remaining into seconds\n",
    "def clock(str):\n",
    "    return int(str[:2]) * 60 + int(str[3:5])\n",
    "\n",
    "nfl_data['GameClock'] = nfl_data['GameClock'].apply(clock)"
   ]
  },
  {
   "cell_type": "code",
   "execution_count": 5,
   "metadata": {},
   "outputs": [],
   "source": [
    "# player height into inches\n",
    "def height(str):\n",
    "    return int(str[:1]) * 12 + int(str[2:])\n",
    "\n",
    "nfl_data['PlayerHeight'] = nfl_data['PlayerHeight'].apply(height)"
   ]
  },
  {
   "cell_type": "code",
   "execution_count": 6,
   "metadata": {},
   "outputs": [],
   "source": [
    "# time difference between snap and handoff in seconds\n",
    "nfl_data['TimeSnap'] = nfl_data['TimeSnap'].replace({'T':' ', 'Z':''}, regex=True) \n",
    "nfl_data['TimeHandoff'] = nfl_data['TimeHandoff'].replace({'T':' ', 'Z':''}, regex=True) \n",
    "\n",
    "def time_delta(row):\n",
    "    d1 = datetime.datetime.strptime(row['TimeSnap'], '%Y-%m-%d %H:%M:%S.%f')\n",
    "    d2 = datetime.datetime.strptime(row['TimeHandoff'], '%Y-%m-%d %H:%M:%S.%f')\n",
    "    return int(d2.strftime('%S')) - int(d1.strftime('%S'))\n",
    "    \n",
    "nfl_data['time_delta'] = nfl_data.apply(lambda row: time_delta(row), axis=1)"
   ]
  },
  {
   "cell_type": "code",
   "execution_count": 7,
   "metadata": {},
   "outputs": [],
   "source": [
    "# calculate the player's approximate age (only takes year into consideration)\n",
    "age = []\n",
    "for i in range(len(nfl_data)):\n",
    "    d1 = datetime.datetime.strptime(nfl_data['TimeSnap'][i], '%Y-%m-%d %H:%M:%S.%f')\n",
    "    y = int(d1.strftime('%Y'))\n",
    "    a = y - int(str(nfl_data['PlayerBirthDate'][i])[-4:])\n",
    "    age.append(a)\n",
    "    \n",
    "nfl_data['ApproxAge'] = age"
   ]
  },
  {
   "cell_type": "code",
   "execution_count": 8,
   "metadata": {},
   "outputs": [],
   "source": [
    "# make all windspeed values numeric\n",
    "nfl_data['WindSpeed'] = (pd.to_numeric(nfl_data['WindSpeed'],errors='coerce').fillna(0))"
   ]
  },
  {
   "cell_type": "markdown",
   "metadata": {},
   "source": [
    "#### String Encoding"
   ]
  },
  {
   "cell_type": "code",
   "execution_count": 9,
   "metadata": {},
   "outputs": [],
   "source": [
    "def encode(col, d={}):\n",
    "    '''\n",
    "    Returns a dictionary that maps column\n",
    "    to order of occurrence\n",
    "    '''\n",
    "    dct = d\n",
    "    value = 0\n",
    "    for i in range(len(nfl_data)):\n",
    "        key = nfl_data[col][i]\n",
    "        if key not in dct.keys():\n",
    "            dct.update({key : value})\n",
    "            value += 1\n",
    "    \n",
    "    return dct      "
   ]
  },
  {
   "cell_type": "code",
   "execution_count": 10,
   "metadata": {},
   "outputs": [],
   "source": [
    "cols = ['Team',  \\\n",
    "       'StadiumType', 'Turf', 'GameWeather', 'WindDirection', 'Position', \\\n",
    "       'PlayDirection', 'OffenseFormation', 'OffensePersonnel', 'DefensePersonnel']\n",
    "\n",
    "for c in cols:\n",
    "    nfl_data[c].replace(encode(c), inplace=True)"
   ]
  },
  {
   "cell_type": "code",
   "execution_count": 11,
   "metadata": {},
   "outputs": [],
   "source": [
    "# team dictionary so that teams map to same number over separate columns \n",
    "d1 = encode('PossessionTeam')\n",
    "d2 = encode('FieldPosition', d1)\n",
    "d3 = encode('HomeTeamAbbr', d2)\n",
    "d4 = encode('VisitorTeamAbbr', d3)\n",
    "\n",
    "teams = d4\n",
    "\n",
    "cols = ['PossessionTeam', 'FieldPosition', 'HomeTeamAbbr', 'VisitorTeamAbbr']\n",
    "\n",
    "for c in cols:\n",
    "    nfl_data[c].replace(teams, inplace=True)"
   ]
  },
  {
   "cell_type": "code",
   "execution_count": 12,
   "metadata": {},
   "outputs": [],
   "source": [
    "# remove remaining unnecessary columns\n",
    "nfl_data.drop(['TimeHandoff', 'TimeSnap', 'PlayerBirthDate'], axis=1, inplace=True)\n",
    "\n",
    "# replace NaN values with 0\n",
    "nfl_data.fillna(0, inplace=True)"
   ]
  },
  {
   "cell_type": "markdown",
   "metadata": {},
   "source": [
    "## Data Visualization"
   ]
  },
  {
   "cell_type": "markdown",
   "metadata": {},
   "source": [
    "## Machine Learning"
   ]
  },
  {
   "cell_type": "code",
   "execution_count": 13,
   "metadata": {},
   "outputs": [],
   "source": [
    "def print_metrics(predictions, actual):\n",
    "    \n",
    "    exact_accuracy = accuracy_score(predictions, y_test)\n",
    "    one_yard_accuracy = sum(abs(predictions - y_test) <= 1) / predictions.size\n",
    "    two_yard_accuracy = sum(abs(predictions - y_test) <= 2) / predictions.size\n",
    "    avg_error = (predictions - y_test).sum() / predictions.size\n",
    "    \n",
    "    count = 0\n",
    "    for i in range(predictions.size):\n",
    "        if predictions[i] >= 0 and y_test.iloc[i] >= 0 or \\\n",
    "        predictions[i] <= 0 and y_test.iloc[i] <= 0:\n",
    "            count += 1\n",
    "    forward_backward_accuracy = count / predictions.size\n",
    "\n",
    "    print('Precision with 0 yard buffer: ', exact_accuracy)\n",
    "    print('Precision with 1 yard buffer: ', one_yard_accuracy)\n",
    "    print('Precision with 2 yard buffer: ', two_yard_accuracy)\n",
    "    print('Precision when estimating forward/backward direction: ', forward_backward_accuracy)\n",
    "    print('Average Error: ', avg_error)"
   ]
  },
  {
   "cell_type": "code",
   "execution_count": 14,
   "metadata": {},
   "outputs": [],
   "source": [
    "X = nfl_data.drop(['Yards'], axis = 1)\n",
    "Y = nfl_data['Yards']\n",
    "x_train, x_test, y_train, y_test = train_test_split(X, Y, test_size = 0.25, random_state = 1)"
   ]
  },
  {
   "cell_type": "code",
   "execution_count": 16,
   "metadata": {
    "collapsed": true
   },
   "outputs": [
    {
     "name": "stdout",
     "output_type": "stream",
     "text": [
      "1\n",
      "2\n",
      "3\n",
      "4\n",
      "5\n",
      "6\n",
      "7\n",
      "8\n",
      "9\n",
      "10\n",
      "11\n",
      "12\n",
      "13\n",
      "14\n",
      "15\n",
      "16\n",
      "17\n",
      "18\n",
      "19\n",
      "20\n",
      "21\n",
      "22\n",
      "23\n",
      "24\n",
      "25\n",
      "26\n",
      "27\n",
      "28\n",
      "29\n",
      "30\n",
      "31\n",
      "32\n",
      "33\n",
      "34\n",
      "35\n",
      "36\n",
      "37\n",
      "38\n",
      "39\n",
      "40\n",
      "41\n",
      "42\n",
      "43\n",
      "44\n",
      "45\n",
      "46\n",
      "47\n",
      "48\n",
      "49\n",
      "50\n",
      "51\n",
      "52\n",
      "53\n",
      "54\n",
      "55\n",
      "56\n",
      "57\n",
      "58\n",
      "59\n",
      "60\n",
      "61\n",
      "62\n",
      "63\n",
      "64\n",
      "65\n",
      "66\n",
      "67\n",
      "68\n",
      "69\n",
      "70\n",
      "71\n",
      "72\n",
      "73\n",
      "74\n",
      "75\n",
      "76\n",
      "77\n",
      "78\n",
      "79\n",
      "80\n",
      "81\n",
      "82\n",
      "83\n",
      "84\n",
      "85\n",
      "86\n",
      "87\n",
      "88\n",
      "89\n",
      "90\n",
      "91\n",
      "92\n",
      "93\n",
      "94\n",
      "95\n",
      "96\n",
      "97\n",
      "98\n",
      "99\n",
      "100\n",
      "[0.10277697130436829, 0.10296529374377163, 0.09748040269614959, 0.09256832573504602, 0.0930234382969374, 0.09627984714495336, 0.1000149088597861, 0.10218846368123288, 0.10490344551596426, 0.1065826539339773, 0.1071711615571127, 0.108073539912587, 0.10873266845049866, 0.1100744658312474, 0.11005877229463046, 0.11070220729592517, 0.11167520656617572, 0.11295422980045668, 0.1136839792531446, 0.11332302791095487, 0.1131739393130939, 0.11394292260732418, 0.1145000431572257, 0.11480606712125611, 0.11479037358463917, 0.11569275194011347, 0.11553581657394402, 0.1160772435872286, 0.11647742877096068, 0.11623417895339805, 0.1165558964540454, 0.11680699303991651, 0.11722287176026554, 0.11762305694399762, 0.11746612157782817, 0.11753674249260442, 0.11788200029817719, 0.11783491968832636, 0.11752104895598747, 0.11789769383479413, 0.11839988700653636, 0.11795262121295344, 0.11788984706648567, 0.11814094365235678, 0.11835280639668552, 0.11840773377484483, 0.11820371779882455, 0.11768583109046539, 0.11804678243265511, 0.11823510487205845, 0.11761521017568914, 0.11777999231016706, 0.11796046798126192, 0.11806247596927205, 0.11760736340738066, 0.11850974176285496, 0.11847835468962108, 0.11873729804380066, 0.11893346725151246, 0.11839204023822789, 0.11872945127549218, 0.11836849993330247, 0.11853328206778038, 0.11897270109305483, 0.11839988700653636, 0.11847835468962108, 0.11849404822623802, 0.11872945127549218, 0.11894131401982094, 0.11840773377484483, 0.11860390298255663, 0.11902762847121413, 0.1191217896909158, 0.11949843456972246, 0.11941996688663774, 0.11977307146051898, 0.11988292621683759, 0.12011832926609176, 0.11984369237529524, 0.12021249048579342, 0.11998493420484774, 0.12009478896116635, 0.12015756310763412, 0.11963967639927496, 0.11948274103310552, 0.11959259578942412, 0.11960828932604108, 0.11972599085066815, 0.11987507944852913, 0.12014186957101718, 0.12048712737658995, 0.12017325664425106, 0.1203615790836544, 0.1204165064618137, 0.12021249048579342, 0.12072253042584412, 0.12063621597445093, 0.12011048249778329, 0.12014186957101718, 0.12044789353504759]\n"
     ]
    }
   ],
   "source": [
    "accuracy = []\n",
    "for k in range(1, 101):\n",
    "    model = KNeighborsClassifier(n_neighbors=k)\n",
    "    model.fit(x_train[:10000], y_train[:10000])\n",
    "    predictions = model.predict(x_test)\n",
    "    accuracy.append(accuracy_score(predictions, y_test))\n",
    "\n",
    "#print_metrics(predictions, y_test)"
   ]
  },
  {
   "cell_type": "code",
   "execution_count": 19,
   "metadata": {
    "scrolled": true
   },
   "outputs": [
    {
     "data": {
      "image/png": "[encoded data removed]",
      "text/plain": [
       "<Figure size 432x288 with 1 Axes>"
      ]
     },
     "metadata": {
      "needs_background": "light"
     },
     "output_type": "display_data"
    }
   ],
   "source": [
    "plt.scatter(range(1, 101), accuracy )\n",
    "plt.show()"
   ]
  },
  {
   "cell_type": "markdown",
   "metadata": {},
   "source": [
    "Based on this model"
   ]
  },
  {
   "cell_type": "code",
   "execution_count": 20,
   "metadata": {},
   "outputs": [
    {
     "name": "stdout",
     "output_type": "stream",
     "text": [
      "Precision with 0 yard buffer:  0.028311140056967537\n",
      "Precision with 1 yard buffer:  0.08222628510447973\n",
      "Precision with 2 yard buffer:  0.1372949050933373\n",
      "Precision when estimating forward/backward direction:  0.4991721659434562\n",
      "Average Error:  -3.828728588130978\n"
     ]
    }
   ],
   "source": [
    "model = Perceptron() #Create the Perceptron Model\n",
    "model.fit(x_train, y_train) # Train the Perceptron Model\n",
    "predictions = model.predict(x_test)\n",
    "print_metrics(predictions, y_test)"
   ]
  },
  {
   "cell_type": "code",
   "execution_count": null,
   "metadata": {},
   "outputs": [],
   "source": []
  }
 ],
 "metadata": {
  "kernelspec": {
   "display_name": "Python 3",
   "language": "python",
   "name": "python3"
  },
  "language_info": {
   "codemirror_mode": {
    "name": "ipython",
    "version": 3
   },
   "file_extension": ".py",
   "mimetype": "text/x-python",
   "name": "python",
   "nbconvert_exporter": "python",
   "pygments_lexer": "ipython3",
   "version": "3.7.3"
  }
 },
 "nbformat": 4,
 "nbformat_minor": 2
}
